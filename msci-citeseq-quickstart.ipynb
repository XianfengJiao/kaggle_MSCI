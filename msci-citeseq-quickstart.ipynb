{
 "cells": [
  {
   "cell_type": "markdown",
   "id": "ec6ab974",
   "metadata": {
    "_cell_guid": "b1076dfc-b9ad-4769-8c92-a6c4dae69d19",
    "_uuid": "8f2839f25d086af736a60e9eeb907d3b93b6e0e5",
    "papermill": {
     "duration": 0.005656,
     "end_time": "2022-08-21T05:28:45.726048",
     "exception": false,
     "start_time": "2022-08-21T05:28:45.720392",
     "status": "completed"
    },
    "tags": []
   },
   "source": [
    "# CITEseq Quickstart\n",
    "\n",
    "This notebook shows how to get a baseline model and prediction for the CITEseq part of the *Multimodal Single-Cell Integration* competition without running out of memory.\n",
    "\n",
    "It does not show the EDA - see the separate notebook [MSCI EDA which makes sense ⭐️⭐️⭐️⭐️⭐️](https://www.kaggle.com/ambrosm/msci-eda-which-makes-sense).\n",
    "\n",
    "The quickstart notebook for the Multiome part of the competition is [here](https://www.kaggle.com/ambrosm/msci-multiome-quickstart)."
   ]
  },
  {
   "cell_type": "code",
   "execution_count": 1,
   "id": "35641bab",
   "metadata": {
    "_kg_hide-input": true,
    "execution": {
     "iopub.execute_input": "2022-08-21T05:28:45.737123Z",
     "iopub.status.busy": "2022-08-21T05:28:45.736634Z",
     "iopub.status.idle": "2022-08-21T05:28:46.944925Z",
     "shell.execute_reply": "2022-08-21T05:28:46.944084Z"
    },
    "papermill": {
     "duration": 1.216921,
     "end_time": "2022-08-21T05:28:46.947621",
     "exception": false,
     "start_time": "2022-08-21T05:28:45.730700",
     "status": "completed"
    },
    "tags": []
   },
   "outputs": [],
   "source": [
    "import os, gc, pickle\n",
    "import pandas as pd\n",
    "import matplotlib.pyplot as plt\n",
    "import seaborn as sns\n",
    "import numpy as np\n",
    "from colorama import Fore, Back, Style\n",
    "from matplotlib.ticker import MaxNLocator\n",
    "\n",
    "from sklearn.base import BaseEstimator, TransformerMixin\n",
    "from sklearn.model_selection import KFold\n",
    "from sklearn.preprocessing import StandardScaler, scale\n",
    "from sklearn.decomposition import PCA\n",
    "from sklearn.dummy import DummyRegressor\n",
    "from sklearn.pipeline import make_pipeline, Pipeline\n",
    "from sklearn.linear_model import Ridge\n",
    "from sklearn.compose import TransformedTargetRegressor\n",
    "from sklearn.metrics import mean_squared_error\n",
    "\n",
    "DATA_DIR = \"./input/\"\n",
    "FP_CELL_METADATA = os.path.join(DATA_DIR,\"metadata.csv\")\n",
    "\n",
    "FP_CITE_TRAIN_INPUTS = os.path.join(DATA_DIR,\"train_cite_inputs.h5\")\n",
    "FP_CITE_TRAIN_TARGETS = os.path.join(DATA_DIR,\"train_cite_targets.h5\")\n",
    "FP_CITE_TEST_INPUTS = os.path.join(DATA_DIR,\"test_cite_inputs.h5\")\n",
    "\n",
    "FP_MULTIOME_TRAIN_INPUTS = os.path.join(DATA_DIR,\"train_multi_inputs.h5\")\n",
    "FP_MULTIOME_TRAIN_TARGETS = os.path.join(DATA_DIR,\"train_multi_targets.h5\")\n",
    "FP_MULTIOME_TEST_INPUTS = os.path.join(DATA_DIR,\"test_multi_inputs.h5\")\n",
    "\n",
    "FP_SUBMISSION = os.path.join(DATA_DIR,\"sample_submission.csv\")\n",
    "FP_EVALUATION_IDS = os.path.join(DATA_DIR,\"evaluation_ids.csv\")"
   ]
  },
  {
   "cell_type": "code",
   "execution_count": 2,
   "id": "74ecc00c",
   "metadata": {
    "_kg_hide-input": true,
    "execution": {
     "iopub.execute_input": "2022-08-21T05:28:46.958829Z",
     "iopub.status.busy": "2022-08-21T05:28:46.958240Z",
     "iopub.status.idle": "2022-08-21T05:29:02.695524Z",
     "shell.execute_reply": "2022-08-21T05:29:02.694231Z"
    },
    "papermill": {
     "duration": 15.746157,
     "end_time": "2022-08-21T05:29:02.698424",
     "exception": false,
     "start_time": "2022-08-21T05:28:46.952267",
     "status": "completed"
    },
    "tags": []
   },
   "outputs": [],
   "source": [
    "# If you see a warning \"Failed to establish a new connection\" running this cell,\n",
    "# go to \"Settings\" on the right hand side, \n",
    "# and turn on internet. Note, you need to be phone verified.\n",
    "# We need this library to read HDF files.\n",
    "# !pip install --quiet tables\n"
   ]
  },
  {
   "cell_type": "markdown",
   "id": "65d58f03",
   "metadata": {
    "papermill": {
     "duration": 0.004248,
     "end_time": "2022-08-21T05:29:02.707871",
     "exception": false,
     "start_time": "2022-08-21T05:29:02.703623",
     "status": "completed"
    },
    "tags": []
   },
   "source": [
    "# Loading the common metadata table\n",
    "\n",
    "The current version of the model is so primitive that it doesn't use the metadata, but we load it anyway."
   ]
  },
  {
   "cell_type": "code",
   "execution_count": 3,
   "id": "6248d088",
   "metadata": {
    "execution": {
     "iopub.execute_input": "2022-08-21T05:29:02.719260Z",
     "iopub.status.busy": "2022-08-21T05:29:02.718776Z",
     "iopub.status.idle": "2022-08-21T05:29:03.156755Z",
     "shell.execute_reply": "2022-08-21T05:29:03.155625Z"
    },
    "papermill": {
     "duration": 0.446876,
     "end_time": "2022-08-21T05:29:03.159227",
     "exception": false,
     "start_time": "2022-08-21T05:29:02.712351",
     "status": "completed"
    },
    "tags": []
   },
   "outputs": [
    {
     "data": {
      "text/plain": [
       "((119651, 5), (161877, 5))"
      ]
     },
     "execution_count": 3,
     "metadata": {},
     "output_type": "execute_result"
    }
   ],
   "source": [
    "df_cell = pd.read_csv(FP_CELL_METADATA)\n",
    "df_cell_cite = df_cell[df_cell.technology==\"citeseq\"]\n",
    "df_cell_multi = df_cell[df_cell.technology==\"multiome\"]\n",
    "df_cell_cite.shape, df_cell_multi.shape"
   ]
  },
  {
   "cell_type": "markdown",
   "id": "4314ddb9",
   "metadata": {
    "papermill": {
     "duration": 0.00431,
     "end_time": "2022-08-21T05:29:03.168231",
     "exception": false,
     "start_time": "2022-08-21T05:29:03.163921",
     "status": "completed"
    },
    "tags": []
   },
   "source": [
    "# The scoring function\n",
    "\n",
    "This competition has a special metric: For every row, it computes the Pearson correlation between y_true and y_pred, and then all these correlation coefficients are averaged."
   ]
  },
  {
   "cell_type": "code",
   "execution_count": 5,
   "id": "9bfcf5fa",
   "metadata": {
    "execution": {
     "iopub.execute_input": "2022-08-21T05:29:03.180453Z",
     "iopub.status.busy": "2022-08-21T05:29:03.178493Z",
     "iopub.status.idle": "2022-08-21T05:29:03.186535Z",
     "shell.execute_reply": "2022-08-21T05:29:03.185760Z"
    },
    "papermill": {
     "duration": 0.016083,
     "end_time": "2022-08-21T05:29:03.188770",
     "exception": false,
     "start_time": "2022-08-21T05:29:03.172687",
     "status": "completed"
    },
    "tags": []
   },
   "outputs": [],
   "source": [
    "def correlation_score(y_true, y_pred):\n",
    "    \"\"\"Scores the predictions according to the competition rules. \n",
    "    \n",
    "    It is assumed that the predictions are not constant.\n",
    "    \n",
    "    Returns the average of each sample's Pearson correlation coefficient\"\"\"\n",
    "    if type(y_true) == pd.DataFrame: y_true = y_true.values\n",
    "    if type(y_pred) == pd.DataFrame: y_pred = y_pred.values\n",
    "    corrsum = 0\n",
    "    for i in range(len(y_true)):\n",
    "        corrsum += np.corrcoef(y_true[i], y_pred[i])[1, 0]\n",
    "    return corrsum / len(y_true)\n"
   ]
  },
  {
   "cell_type": "markdown",
   "id": "92f5de7a",
   "metadata": {
    "papermill": {
     "duration": 0.004321,
     "end_time": "2022-08-21T05:29:03.197789",
     "exception": false,
     "start_time": "2022-08-21T05:29:03.193468",
     "status": "completed"
    },
    "tags": []
   },
   "source": [
    "# Cross-validation\n",
    "\n",
    "Data size:\n",
    "- The training input has shape 70988\\*22050 (10.6 GByte).\n",
    "- The training labels have shape 70988\\*140.\n",
    "- The test input has shape 48663\\*22050 (4.3 GByte).\n",
    "\n",
    "To get a result with only 16 GByte RAM, we simplify the problem as follows:\n",
    "- We ignore the complete metadata (donors, days, cell types).\n",
    "- We drop all feature columns which are constant.\n",
    "- Of the remaining columns, we keep only the last 12000.\n",
    "- We do a PCA and keep only the 240 most important components.\n",
    "- We use PCA(copy=False), which overwrites its input in fit_transform().\n",
    "- We fit a ridge regression model with 70988\\*240 inputs and 70988\\*140 outputs. "
   ]
  },
  {
   "cell_type": "code",
   "execution_count": 6,
   "id": "6e5ba5df",
   "metadata": {
    "execution": {
     "iopub.execute_input": "2022-08-21T05:29:03.209134Z",
     "iopub.status.busy": "2022-08-21T05:29:03.208439Z",
     "iopub.status.idle": "2022-08-21T05:31:26.382298Z",
     "shell.execute_reply": "2022-08-21T05:31:26.380979Z"
    },
    "papermill": {
     "duration": 143.183369,
     "end_time": "2022-08-21T05:31:26.385706",
     "exception": false,
     "start_time": "2022-08-21T05:29:03.202337",
     "status": "completed"
    },
    "tags": []
   },
   "outputs": [
    {
     "name": "stdout",
     "output_type": "stream",
     "text": [
      "(70988, 22050)\n",
      "(70988, 21601)\n",
      "(70988, 12000)\n"
     ]
    },
    {
     "data": {
      "image/png": "[encoded data removed]",
      "text/plain": [
       "<Figure size 432x288 with 1 Axes>"
      ]
     },
     "metadata": {
      "needs_background": "light"
     },
     "output_type": "display_data"
    },
    {
     "name": "stdout",
     "output_type": "stream",
     "text": [
      "(70988, 240)\n",
      "(70988, 140)\n",
      "CPU times: user 4min 47s, sys: 14.8 s, total: 5min 2s\n",
      "Wall time: 35.4 s\n"
     ]
    }
   ],
   "source": [
    "%%time\n",
    "# Preprocessing\n",
    "\n",
    "class PreprocessCiteseq(BaseEstimator, TransformerMixin):\n",
    "    columns_to_use = 12000\n",
    "    \n",
    "    @staticmethod\n",
    "    def take_column_subset(X):\n",
    "        return X[:,-PreprocessCiteseq.columns_to_use:]\n",
    "    \n",
    "    def transform(self, X):\n",
    "        print(X.shape)\n",
    "        X = X[:,~self.all_zero_columns]\n",
    "        print(X.shape)\n",
    "        X = PreprocessCiteseq.take_column_subset(X) # use only a part of the columns\n",
    "        print(X.shape)\n",
    "        gc.collect()\n",
    "\n",
    "        X = self.pca.transform(X)\n",
    "        print(X.shape)\n",
    "        return X\n",
    "\n",
    "    def fit_transform(self, X):\n",
    "        gc.collect()\n",
    "        print(X.shape)\n",
    "        self.all_zero_columns = (X == 0).all(axis=0)\n",
    "        X = X[:,~self.all_zero_columns]\n",
    "        print(X.shape)\n",
    "        X = PreprocessCiteseq.take_column_subset(X) # use only a part of the columns\n",
    "        print(X.shape)\n",
    "        gc.collect()\n",
    "\n",
    "        self.pca = PCA(n_components=240, copy=False, random_state=1)\n",
    "        X = self.pca.fit_transform(X)\n",
    "        plt.plot(self.pca.explained_variance_ratio_.cumsum())\n",
    "        plt.title(\"Cumulative explained variance ratio\")\n",
    "        plt.gca().xaxis.set_major_locator(MaxNLocator(integer=True))\n",
    "        plt.xlabel('PCA component')\n",
    "        plt.ylabel('Cumulative explained variance ratio')\n",
    "        plt.show()\n",
    "        print(X.shape)\n",
    "        return X\n",
    "\n",
    "preprocessor = PreprocessCiteseq()\n",
    "\n",
    "cite_train_x = None\n",
    "cite_train_x = preprocessor.fit_transform(pd.read_hdf(FP_CITE_TRAIN_INPUTS).values)\n",
    "\n",
    "cite_train_y = pd.read_hdf(FP_CITE_TRAIN_TARGETS).values\n",
    "print(cite_train_y.shape)"
   ]
  },
  {
   "cell_type": "code",
   "execution_count": 6,
   "id": "6066cde5",
   "metadata": {
    "execution": {
     "iopub.execute_input": "2022-08-21T05:31:26.399386Z",
     "iopub.status.busy": "2022-08-21T05:31:26.398980Z",
     "iopub.status.idle": "2022-08-21T05:31:36.843502Z",
     "shell.execute_reply": "2022-08-21T05:31:36.841906Z"
    },
    "papermill": {
     "duration": 10.454769,
     "end_time": "2022-08-21T05:31:36.846193",
     "exception": false,
     "start_time": "2022-08-21T05:31:26.391424",
     "status": "completed"
    },
    "tags": []
   },
   "outputs": [
    {
     "name": "stdout",
     "output_type": "stream",
     "text": [
      "Fold 0: mse = 2.66915, corr =  0.888\n",
      "Fold 1: mse = 2.67049, corr =  0.888\n",
      "Fold 2: mse = 2.66776, corr =  0.889\n",
      "Fold 3: mse = 2.69190, corr =  0.888\n",
      "Fold 4: mse = 2.67253, corr =  0.887\n",
      "\u001b[32m\u001b[1mAverage  mse = 2.67437; corr = 0.888\u001b[0m\n",
      "CPU times: user 13 s, sys: 2.88 s, total: 15.9 s\n",
      "Wall time: 10.4 s\n"
     ]
    }
   ],
   "source": [
    "%%time\n",
    "# Cross-validation\n",
    "\n",
    "kf = KFold(n_splits=5, shuffle=True, random_state=1)\n",
    "score_list = []\n",
    "for fold, (idx_tr, idx_va) in enumerate(kf.split(cite_train_x)):\n",
    "    model = None\n",
    "    gc.collect()\n",
    "    X_tr = cite_train_x[idx_tr] # creates a copy, https://numpy.org/doc/stable/user/basics.copies.html\n",
    "    y_tr = cite_train_y[idx_tr]\n",
    "\n",
    "    model = Ridge(copy_X=False) # overwrites the copied data\n",
    "    model.fit(X_tr, y_tr)\n",
    "    del X_tr, y_tr\n",
    "    gc.collect()\n",
    "\n",
    "    # We validate the model\n",
    "    X_va = cite_train_x[idx_va]\n",
    "    y_va = cite_train_y[idx_va]\n",
    "    y_va_pred = model.predict(X_va)\n",
    "    mse = mean_squared_error(y_va, y_va_pred)\n",
    "    corrscore = correlation_score(y_va, y_va_pred)\n",
    "    del X_va, y_va\n",
    "\n",
    "    print(f\"Fold {fold}: mse = {mse:.5f}, corr =  {corrscore:.3f}\")\n",
    "    score_list.append((mse, corrscore))\n",
    "\n",
    "# Show overall score\n",
    "result_df = pd.DataFrame(score_list, columns=['mse', 'corrscore'])\n",
    "print(f\"{Fore.GREEN}{Style.BRIGHT}Average  mse = {result_df.mse.mean():.5f}; corr = {result_df.corrscore.mean():.3f}{Style.RESET_ALL}\")\n"
   ]
  },
  {
   "cell_type": "markdown",
   "id": "836b77fe",
   "metadata": {
    "papermill": {
     "duration": 0.0055,
     "end_time": "2022-08-21T05:31:36.857643",
     "exception": false,
     "start_time": "2022-08-21T05:31:36.852143",
     "status": "completed"
    },
    "tags": []
   },
   "source": [
    "This ridge regression is far better than DummyRegressor, which has the score `mse = 4.87618; corr = 0.805`."
   ]
  },
  {
   "cell_type": "markdown",
   "id": "f2b3b42b",
   "metadata": {
    "papermill": {
     "duration": 0.005574,
     "end_time": "2022-08-21T05:31:36.869454",
     "exception": false,
     "start_time": "2022-08-21T05:31:36.863880",
     "status": "completed"
    },
    "tags": []
   },
   "source": [
    "# Retraining\n",
    "\n",
    "We retrain the model on all training rows, delete the training data, load the test data and compute the predictions."
   ]
  },
  {
   "cell_type": "code",
   "execution_count": 7,
   "id": "7e6eb9cf",
   "metadata": {
    "execution": {
     "iopub.execute_input": "2022-08-21T05:31:36.883558Z",
     "iopub.status.busy": "2022-08-21T05:31:36.883164Z",
     "iopub.status.idle": "2022-08-21T05:32:20.687634Z",
     "shell.execute_reply": "2022-08-21T05:32:20.686316Z"
    },
    "papermill": {
     "duration": 43.816025,
     "end_time": "2022-08-21T05:32:20.691376",
     "exception": false,
     "start_time": "2022-08-21T05:31:36.875351",
     "status": "completed"
    },
    "tags": []
   },
   "outputs": [
    {
     "name": "stdout",
     "output_type": "stream",
     "text": [
      "(48663, 22050)\n",
      "(48663, 21601)\n",
      "(48663, 12000)\n",
      "(48663, 240)\n"
     ]
    },
    {
     "data": {
      "text/plain": [
       "(48663, 140)"
      ]
     },
     "execution_count": 7,
     "metadata": {},
     "output_type": "execute_result"
    }
   ],
   "source": [
    "model = None # free the RAM occupied by the old model\n",
    "model = Ridge(copy_X=False) # we overwrite the training data\n",
    "model.fit(cite_train_x, cite_train_y)\n",
    "del cite_train_x, cite_train_y\n",
    "gc.collect()\n",
    "\n",
    "cite_test_x = preprocessor.transform(pd.read_hdf(FP_CITE_TEST_INPUTS).values)\n",
    "test_pred = model.predict(cite_test_x)\n",
    "del cite_test_x\n",
    "test_pred.shape"
   ]
  },
  {
   "cell_type": "markdown",
   "id": "30f61273",
   "metadata": {
    "papermill": {
     "duration": 0.008506,
     "end_time": "2022-08-21T05:32:20.709483",
     "exception": false,
     "start_time": "2022-08-21T05:32:20.700977",
     "status": "completed"
    },
    "tags": []
   },
   "source": [
    "# Submission\n",
    "\n",
    "We save the CITEseq predictions so that they can be merged with the Multiome predictions in the [Multiome quickstart notebook](https://www.kaggle.com/ambrosm/msci-multiome-quickstart).\n",
    "\n",
    "The CITEseq test predictions produced by the ridge regressor have 48663 rows (i.e., cells) and 140 columns (i.e. proteins). 48663 * 140 = 6812820.\n"
   ]
  },
  {
   "cell_type": "code",
   "execution_count": 8,
   "id": "cda3ac63",
   "metadata": {
    "execution": {
     "iopub.execute_input": "2022-08-21T05:32:20.729446Z",
     "iopub.status.busy": "2022-08-21T05:32:20.728753Z",
     "iopub.status.idle": "2022-08-21T05:32:20.780027Z",
     "shell.execute_reply": "2022-08-21T05:32:20.778010Z"
    },
    "papermill": {
     "duration": 0.065382,
     "end_time": "2022-08-21T05:32:20.783870",
     "exception": false,
     "start_time": "2022-08-21T05:32:20.718488",
     "status": "completed"
    },
    "tags": []
   },
   "outputs": [],
   "source": [
    "with open('citeseq_pred.pickle', 'wb') as f: pickle.dump(test_pred, f) # float32 array of shape (48663, 140)"
   ]
  },
  {
   "cell_type": "markdown",
   "id": "c868dbdd",
   "metadata": {
    "papermill": {
     "duration": 0.008517,
     "end_time": "2022-08-21T05:32:20.801385",
     "exception": false,
     "start_time": "2022-08-21T05:32:20.792868",
     "status": "completed"
    },
    "tags": []
   },
   "source": [
    "The final submission will have 65744180 rows, of which the first 6812820 are for the CITEseq predictions and the remaining 58931360 for the Multiome predictions. \n",
    "\n",
    "We now read the Multiome predictions and merge the CITEseq predictions into them:"
   ]
  },
  {
   "cell_type": "code",
   "execution_count": 9,
   "id": "6f84120f",
   "metadata": {
    "execution": {
     "iopub.execute_input": "2022-08-21T05:32:20.817911Z",
     "iopub.status.busy": "2022-08-21T05:32:20.817513Z",
     "iopub.status.idle": "2022-08-21T05:34:25.078451Z",
     "shell.execute_reply": "2022-08-21T05:34:25.077321Z"
    },
    "papermill": {
     "duration": 124.276917,
     "end_time": "2022-08-21T05:34:25.086439",
     "exception": false,
     "start_time": "2022-08-21T05:32:20.809522",
     "status": "completed"
    },
    "tags": []
   },
   "outputs": [
    {
     "data": {
      "text/plain": [
       "row_id\n",
       "0           0.596451\n",
       "1           0.299572\n",
       "2           0.624435\n",
       "3           4.191335\n",
       "4           5.107242\n",
       "              ...   \n",
       "65744175    7.271666\n",
       "65744176    0.017597\n",
       "65744177    0.025040\n",
       "65744178    1.933743\n",
       "65744179    5.111444\n",
       "Name: target, Length: 65744180, dtype: float32"
      ]
     },
     "execution_count": 9,
     "metadata": {},
     "output_type": "execute_result"
    }
   ],
   "source": [
    "with open(\"../input/msci-multiome-quickstart/partial_submission_multi.pickle\", 'rb') as f: submission = pickle.load(f)\n",
    "submission.iloc[:len(test_pred.ravel())] = test_pred.ravel()\n",
    "assert not submission.isna().any()\n",
    "submission = submission.round(6) # reduce the size of the csv\n",
    "submission.to_csv('submission.csv')\n",
    "submission\n"
   ]
  },
  {
   "cell_type": "code",
   "execution_count": null,
   "id": "cd5eddfe",
   "metadata": {
    "papermill": {
     "duration": 0.006011,
     "end_time": "2022-08-21T05:34:25.098871",
     "exception": false,
     "start_time": "2022-08-21T05:34:25.092860",
     "status": "completed"
    },
    "tags": []
   },
   "outputs": [],
   "source": []
  }
 ],
 "metadata": {
  "kernelspec": {
   "display_name": "Python 3.9.7 ('base')",
   "language": "python",
   "name": "python3"
  },
  "language_info": {
   "codemirror_mode": {
    "name": "ipython",
    "version": 3
   },
   "file_extension": ".py",
   "mimetype": "text/x-python",
   "name": "python",
   "nbconvert_exporter": "python",
   "pygments_lexer": "ipython3",
   "version": "3.9.7"
  },
  "papermill": {
   "default_parameters": {},
   "duration": 348.949346,
   "end_time": "2022-08-21T05:34:26.129986",
   "environment_variables": {},
   "exception": null,
   "input_path": "__notebook__.ipynb",
   "output_path": "__notebook__.ipynb",
   "parameters": {},
   "start_time": "2022-08-21T05:28:37.180640",
   "version": "2.3.4"
  },
  "vscode": {
   "interpreter": {
    "hash": "7631d7b291f12e3b74fa8514e9648ce6fb427e9ee6a2e203351a29f0ce283fdb"
   }
  }
 },
 "nbformat": 4,
 "nbformat_minor": 5
}
